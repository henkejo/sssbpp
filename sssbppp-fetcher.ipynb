{
 "cells": [
  {
   "cell_type": "code",
   "source": [
    "import time\n",
    "\n",
    "APT_LIST_URL = \"https://sssb.se/widgets/?callback=a&widgets%5B%5D=objektlista%40lagenheter\"\n",
    "APT_DETAILS_URL_PREFIX = \"https://sssb.se/widgets/?widgets%5B%5D=objektinformation%40lagenheter&widgets%5B%5D=objektdokument&widgets%5B%5D=objektintressestatus&widgets%5B%5D=objektintresse&callback=a&refid=\"\n",
    "DATA_FILENAME = \"sssbppp-data.csv\""
   ],
   "metadata": {
    "collapsed": false,
    "pycharm": {
     "name": "#%%\n"
    }
   },
   "execution_count": null,
   "outputs": []
  },
  {
   "cell_type": "markdown",
   "source": [
    "# Collecting refIDs:"
   ],
   "metadata": {
    "collapsed": false
   }
  },
  {
   "cell_type": "code",
   "execution_count": 2,
   "outputs": [],
   "source": [
    "from bs4 import BeautifulSoup\n",
    "import requests\n",
    "import re\n",
    "\n",
    "page = requests.get(APT_LIST_URL).text\n",
    "soup = BeautifulSoup(page, 'html.parser')\n",
    "\n",
    "apt_ids = []\n",
    "p = re.compile(r'refid=([A-Za-z0-9_.]+)')\n",
    "for anchor in soup.findAll('a', href=True):\n",
    "    link = anchor['href']\n",
    "    ref = p.findall(link)[0]\n",
    "    apt_ids.append(ref)"
   ],
   "metadata": {
    "collapsed": false,
    "pycharm": {
     "name": "#%%\n"
    }
   }
  },
  {
   "cell_type": "markdown",
   "source": [
    "## Adding old ids that are expiring:"
   ],
   "metadata": {
    "collapsed": false
   }
  },
  {
   "cell_type": "code",
   "execution_count": 25,
   "outputs": [],
   "source": [
    "import os.path\n",
    "import pandas as pd\n",
    "import dateutil.parser as timeparser\n",
    "\n",
    "# Getting the latest scrape\n",
    "if os.path.exists(DATA_FILENAME):\n",
    "    df = pd.read_csv(DATA_FILENAME)\n",
    "    latest_snap = df[df['scrape-time']==df['scrape-time'].max()]\n",
    "    for idx, apt in latest_snap.iterrows():\n",
    "        time_string = apt['objektintresse'][0:50]\n",
    "        apt_close_time = timeparser.parse(time_string, fuzzy=True)\n",
    "        if time.time() > apt_close_time:\n",
    "            apt_ids.append(apt[\"refid\"])\n"
   ],
   "metadata": {
    "collapsed": false,
    "pycharm": {
     "name": "#%%\n"
    }
   }
  },
  {
   "cell_type": "markdown",
   "source": [
    "# Collecting individual apartment data:"
   ],
   "metadata": {
    "collapsed": false
   }
  },
  {
   "cell_type": "code",
   "execution_count": 6,
   "outputs": [],
   "source": [
    "import json\n",
    "\n",
    "timestamp = time.time()\n",
    "apts = []\n",
    "for ref in apt_ids:\n",
    "    url = APT_DETAILS_URL_PREFIX + ref\n",
    "    page = str.removeprefix(requests.get(url).text, \"a(\")\n",
    "    page = str.removesuffix(page, \");\")\n",
    "    dict = json.loads(page)\n",
    "    apt = dict[\"data\"][\"objektinformation@lagenheter\"]\n",
    "\n",
    "    apt[\"objektintressestatus\"] = dict[\"html\"]['objektintressestatus']\n",
    "\n",
    "    soup = BeautifulSoup(dict[\"html\"][\"objektintresse\"], 'html.parser')\n",
    "    div = soup.findAll('div')[0]\n",
    "    apt['objektintresse'] = div.text\n",
    "\n",
    "    apt['scrape-time'] = timestamp\n",
    "\n",
    "    apts.append(dict[\"data\"][\"objektinformation@lagenheter\"])"
   ],
   "metadata": {
    "collapsed": false,
    "pycharm": {
     "name": "#%%\n"
    }
   }
  },
  {
   "cell_type": "code",
   "execution_count": 7,
   "outputs": [],
   "source": [
    "import csv\n",
    "\n",
    "new_file = not(os.path.isfile(DATA_FILENAME))\n",
    "with open(DATA_FILENAME, encoding=\"utf-8\", mode=\"a\") as file:\n",
    "    w = csv.DictWriter(file, apts[0].keys())\n",
    "    if new_file:\n",
    "        w.writeheader()\n",
    "\n",
    "    for apt in apts:\n",
    "        w.writerow(apt)\n"
   ],
   "metadata": {
    "collapsed": false,
    "pycharm": {
     "name": "#%%\n"
    }
   }
  }
 ],
 "metadata": {
  "kernelspec": {
   "display_name": "Python 3",
   "language": "python",
   "name": "python3"
  },
  "language_info": {
   "codemirror_mode": {
    "name": "ipython",
    "version": 2
   },
   "file_extension": ".py",
   "mimetype": "text/x-python",
   "name": "python",
   "nbconvert_exporter": "python",
   "pygments_lexer": "ipython2",
   "version": "2.7.6"
  }
 },
 "nbformat": 4,
 "nbformat_minor": 0
}